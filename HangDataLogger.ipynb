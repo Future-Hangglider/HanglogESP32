{
 "cells": [
  {
   "cell_type": "markdown",
   "metadata": {},
   "source": [
    "This is the code that goes into the hangpoint device with the \n",
    "camera and orientation sensor, connecting to the Blackview phone \n",
    "through port 9019.  (Ported over from AirTemperatureTech)"
   ]
  },
  {
   "cell_type": "code",
   "execution_count": 1,
   "metadata": {},
   "outputs": [
    {
     "name": "stdout",
     "output_type": "stream",
     "text": [
      "\u001b[34mConnecting to --port=/dev/ttyUSB1 --baud=115200 \u001b[0m\n",
      "\u001b[34mReady.\n",
      "\u001b[0m"
     ]
    }
   ],
   "source": [
    "%serialconnect"
   ]
  },
  {
   "cell_type": "code",
   "execution_count": 5,
   "metadata": {},
   "outputs": [
    {
     "name": "stdout",
     "output_type": "stream",
     "text": [
      "Sent 134 lines (4341 bytes) to BNO055_funcs.py.\n",
      "Sent 112 lines (4469 bytes) to BlueFly_funcs.py.\n",
      "Sent 92 lines (2739 bytes) to NewDataLogger_funcs.py.\n",
      "Sent 41 lines (1067 bytes) to UDPblackviewphone.py.\n"
     ]
    }
   ],
   "source": [
    "%sendtofile --quiet --source BNO055_funcs.py\n",
    "%sendtofile --quiet --source BlueFly_funcs.py\n",
    "%sendtofile --quiet --source NewDataLogger_funcs.py\n",
    "%sendtofile --quiet --source UDPblackviewphone.py\n"
   ]
  },
  {
   "cell_type": "code",
   "execution_count": 3,
   "metadata": {},
   "outputs": [
    {
     "name": "stdout",
     "output_type": "stream",
     "text": [
      "Sent 1 lines (1 bytes) to deviceletter.txt.\n"
     ]
    }
   ],
   "source": [
    "%sendtofile deviceletter.txt\n",
    "@"
   ]
  },
  {
   "cell_type": "code",
   "execution_count": 4,
   "metadata": {
    "scrolled": true
   },
   "outputs": [
    {
     "name": "stdout",
     "output_type": "stream",
     "text": [
      "Sent 92 lines (2215 bytes) to main.py.\n"
     ]
    }
   ],
   "source": [
    "%sendtofile main.py\n",
    "\n",
    "from machine import Pin, UART\n",
    "import os, time, math, ustruct, urandom\n",
    "from NewDataLogger_funcs import ConnectBluefly, readlogbluefly\n",
    "from BNO055_funcs import InitBNO055, readhexlifyBNO055\n",
    "\n",
    "# uartBlueFly = UART(1, baudrate=57600, rx=13, tx=17)\n",
    "uartBNO055 = UART(2, baudrate=115200, rx=2, tx=18)\n",
    "\n",
    "pled = Pin(14, Pin.OUT)\n",
    "for i in range(10):\n",
    "    time.sleep_ms(200)\n",
    "    pled.value(i%2)\n",
    "\n",
    "pled.value(1)\n",
    "for i in range(5):\n",
    "    try:\n",
    "        k = InitBNO055(uartBNO055)\n",
    "        print(k)\n",
    "        break\n",
    "    except OSError:\n",
    "        print(\"Bad BNO055\", i)\n",
    "    time.sleep(0.05)\n",
    "    pled.value(0)\n",
    "    time.sleep(0.1)\n",
    "    pled.value(1)\n",
    "    time.sleep(0.5)\n",
    "pled.value(0)\n",
    "\n",
    "ConnectBluefly(None, vol=20)\n",
    "\n",
    "for i in range(11):\n",
    "    pled.value(i%2)\n",
    "    time.sleep_ms(200)\n",
    "\n",
    "deviceletter = open(\"deviceletter.txt\", \"r\").read()\n",
    "print(\"deviceletter\", deviceletter)\n",
    "\n",
    "\n",
    "from UDPblackviewphone import connectActivePhone\n",
    "while not connectActivePhone(pled):\n",
    "    for j in range(3):\n",
    "        for i in range(7):\n",
    "            pled.value(i%2)\n",
    "            time.sleep_ms(100)\n",
    "        time.sleep_ms(800)\n",
    "\n",
    "        \n",
    "import socket\n",
    "androidipnumber = \"192.168.43.1\"\n",
    "portnumber = 9042\n",
    "        \n",
    "ubs = bytearray(\"Ut00000000i00\\n\")\n",
    "mubs = memoryview(ubs)\n",
    "\n",
    "prevflushstamp = 0\n",
    "nextledonstamp = 0\n",
    "gpsfixes = 0\n",
    "\n",
    "while True:\n",
    "    try:\n",
    "        ss = socket.socket()\n",
    "        ss.settimeout(1)\n",
    "        print(ss)\n",
    "        ss.connect(socket.getaddrinfo(androidipnumber, portnumber)[0][-1])\n",
    "        s = ss.makefile('rwb', 0)\n",
    "        print(s.readline())\n",
    "        s.write(b\"%c%c%c%c\"%(deviceletter,deviceletter,deviceletter,deviceletter))\n",
    "        dwrite = s.write\n",
    "        while True:\n",
    "            tstamp = time.ticks_ms()\n",
    "            if tstamp > nextledonstamp:\n",
    "                pv = (0 if pled.value() else 1)\n",
    "                pled.value(pv)\n",
    "                mubs[2:10] = b\"%08X\" % tstamp\n",
    "                mubs[12] = 48+pv #'0'or'1'\n",
    "                dwrite(ubs)\n",
    "                nextledonstamp = tstamp + urandom.randint(5000, 10000)//(10 if pv else 1)\n",
    "\n",
    "            lbf = readlogbluefly(dwrite)\n",
    "            bno055rec = readhexlifyBNO055(10)\n",
    "            if bno055rec:\n",
    "                dwrite(bno055rec)\n",
    "                \n",
    "    except OSError as e:\n",
    "        print(\"OSError\", e)\n",
    "\n",
    "\n",
    "\n",
    "\n",
    "        \n",
    "        \n",
    "        "
   ]
  },
  {
   "cell_type": "code",
   "execution_count": 6,
   "metadata": {},
   "outputs": [
    {
     "name": "stdout",
     "output_type": "stream",
     "text": [
      "\u001b[34mattempt to exit paste mode\n",
      "\u001b[0m\u001b[34m[\\r\\x03\\x02] \u001b[0mb'\\r\\nMicroPython v1.9.4-651-g0f6f86ca4 on 2018-10-17; ESP32 module with ESP32\\r\\nType \"help()\" for more information.\\r\\n>>> '\u001b[34m\n",
      "Closing serial Serial<id=0x7f21bd0b0e48, open=True>(port='/dev/ttyUSB0', baudrate=115200, bytesize=8, parity='N', stopbits=1, timeout=0.5, xonxoff=False, rtscts=False, dsrdtr=False)\n",
      "\u001b[0m"
     ]
    }
   ],
   "source": [
    "%disconnect"
   ]
  },
  {
   "cell_type": "code",
   "execution_count": 23,
   "metadata": {},
   "outputs": [
    {
     "name": "stderr",
     "output_type": "stream",
     "text": [
      "Traceback (most recent call last):\n",
      "  File \"<stdin>\", line 2, in <module>\n",
      "OSError: [Errno 2] ENOENT\n"
     ]
    }
   ],
   "source": [
    "import os\n",
    "help(os.stat(\"calibfile.txt\"))\n"
   ]
  },
  {
   "cell_type": "code",
   "execution_count": 10,
   "metadata": {},
   "outputs": [
    {
     "name": "stdout",
     "output_type": "stream",
     "text": [
      "Sent 3 lines (157 bytes) to hotspots.txt.\n"
     ]
    }
   ],
   "source": [
    "%sendtofile hotspots.txt\n",
    "\n",
    "BV6000         beckaaaa    192.168.43.1   9042\n",
    "JulianS9       beckaaaa    192.168.43.1   9042\n",
    "DoESLiverpool  decafbad00  node-red.dynamicdevices.co.uk   4006"
   ]
  },
  {
   "cell_type": "code",
   "execution_count": 12,
   "metadata": {},
   "outputs": [
    {
     "name": "stdout",
     "output_type": "stream",
     "text": [
      "\u001b[34mConnecting to --port=/dev/ttyUSB1 --baud=115200 \u001b[0m\n",
      "\u001b[34mReady.\n",
      "\u001b[0m"
     ]
    }
   ],
   "source": [
    "%serialconnect"
   ]
  },
  {
   "cell_type": "code",
   "execution_count": 20,
   "metadata": {},
   "outputs": [
    {
     "name": "stdout",
     "output_type": "stream",
     "text": [
      "Listing directory '/'.\n",
      "     3165    BME280_funcs.py\n",
      "     4341    BNO055_funcs.py\n",
      "     2732    BNO055serial_funcs.py\n",
      "     4469    BlueFly_funcs.py\n",
      "    14410    Dmain.py\n",
      "      854    MLX90614_funcs.py\n",
      "     5919    MLX90621_funcs.py\n",
      "     1375    MS5611_funcs.py\n",
      "     2739    NewDataLogger_funcs.py\n",
      "     3820    OLED_driver.py\n",
      "     4083    OLED_grapher.py\n",
      "     1800    SDOF_funcs.py\n",
      "     1090    SHT31D_funcs.py\n",
      "     2040    SI7021_funcs.py\n",
      "     1757    TSL561_funcs.py\n",
      "     1067    UDPblackviewphone.py\n",
      "      975    VL53L0X_funcs.py\n",
      "     3190    VL6180_funcs.py\n",
      "     8811    aswitch.py\n",
      "    14738    asyn.py\n",
      "      139    boot.py\n",
      "      113    config.txt\n",
      "     3180    device_detection.py\n",
      "        1    deviceletter.txt\n",
      "     2314    fmqttqueue.py\n",
      "      157    hotspots.txt\n",
      "             lib/\n",
      "     1598    main.py\n",
      "    25011    mqtt_as.py\n",
      "     2004    ubxminimal.py\n"
     ]
    }
   ],
   "source": [
    "%ls"
   ]
  },
  {
   "cell_type": "code",
   "execution_count": 18,
   "metadata": {},
   "outputs": [
    {
     "name": "stdout",
     "output_type": "stream",
     "text": [
      "BNO055 orient\r\n"
     ]
    }
   ],
   "source": [
    "uart2.read()\n",
    "uart2.write(b\"\\xAA\\x01\\x00\\x06\")  # request chip_id and firmware version\n",
    "time.sleep_ms(20)\n",
    "r = uart2.read()\n",
    "if r is not None and len(r) == 8 and r[:3] == b'\\xbb\\x06\\xa0':\n",
    "    swversion = \"%d.%d\" % (r[6], r[7])  # 8.3\n",
    "    print(\"BNO055 orient\")\n",
    "time.sleep(0.2)\n"
   ]
  },
  {
   "cell_type": "code",
   "execution_count": 11,
   "metadata": {},
   "outputs": [
    {
     "name": "stdout",
     "output_type": "stream",
     "text": [
      "Sent 66 lines (1598 bytes) to main.py.\n"
     ]
    }
   ],
   "source": [
    "%sendtofile main.py\n",
    "\n",
    "# charuco board bno055 only\n",
    "from machine import Pin, UART\n",
    "import os, time, math, ustruct, urandom\n",
    "from BNO055_funcs import InitBNO055, readhexlifyBNO055\n",
    "\n",
    "pled = Pin(2, Pin.OUT)\n",
    "for i in range(10):\n",
    "    time.sleep_ms(200)\n",
    "    pled.value(i%2)\n",
    "\n",
    "for i in range(5):\n",
    "    try:\n",
    "        k = InitBNO055(tx=17, rx=16)\n",
    "        print(k)\n",
    "        break\n",
    "    except OSError:\n",
    "        print(\"Bad BNO055\", i)\n",
    "    time.sleep(0.05)\n",
    "    pled.value(0)\n",
    "    time.sleep(0.1)\n",
    "    pled.value(1)\n",
    "    time.sleep(0.5)\n",
    "pled.value(0)\n",
    "\n",
    "for i in range(11):\n",
    "    pled.value(i%2)\n",
    "    time.sleep_ms(200)\n",
    "\n",
    "deviceletter = open(\"deviceletter.txt\", \"r\").read()\n",
    "print(\"deviceletter\", deviceletter)\n",
    "\n",
    "from UDPblackviewphone import connectActivePhone\n",
    "while not connectActivePhone(pled):\n",
    "    for j in range(3):\n",
    "        for i in range(7):\n",
    "            pled.value(i%2)\n",
    "            time.sleep_ms(100)\n",
    "        time.sleep_ms(800)\n",
    "\n",
    "        \n",
    "import socket\n",
    "androidipnumber = \"192.168.43.1\"\n",
    "portnumber = 9042\n",
    "        \n",
    "while True:\n",
    "    try:\n",
    "        ss = socket.socket()\n",
    "        ss.settimeout(1)\n",
    "        print(ss)\n",
    "        ss.connect(socket.getaddrinfo(androidipnumber, portnumber)[0][-1])\n",
    "        s = ss.makefile('rwb', 0)\n",
    "        print(s.readline())\n",
    "        s.write(b\"%c%c%c%c\"%(deviceletter,deviceletter,deviceletter,deviceletter))\n",
    "        dwrite = s.write\n",
    "        while True:\n",
    "            bno055rec = readhexlifyBNO055(10)\n",
    "            if bno055rec:\n",
    "                pled.value(1)\n",
    "                dwrite(bno055rec)\n",
    "                pled.value(0)\n",
    "            time.sleep_ms(5)\n",
    "                \n",
    "    except OSError as e:\n",
    "        print(\"OSError\", e)\n",
    "        \n",
    "        "
   ]
  },
  {
   "cell_type": "code",
   "execution_count": null,
   "metadata": {},
   "outputs": [],
   "source": []
  },
  {
   "cell_type": "code",
   "execution_count": 40,
   "metadata": {},
   "outputs": [
    {
     "name": "stdout",
     "output_type": "stream",
     "text": [
      "\u001b[34mConnecting to --port=/dev/ttyUSB0 --baud=115200 \u001b[0m\n",
      "\u001b[34mReady.\n",
      "\u001b[0m"
     ]
    }
   ],
   "source": [
    "%serialconnect"
   ]
  },
  {
   "cell_type": "code",
   "execution_count": 48,
   "metadata": {},
   "outputs": [
    {
     "name": "stdout",
     "output_type": "stream",
     "text": [
      "Sent 54 lines (1354 bytes) to main.py.\n"
     ]
    }
   ],
   "source": [
    "# Bike rolling single button logger\n",
    "\n",
    "%sendtofile main.py\n",
    "\n",
    "from machine import Pin, UART\n",
    "import os, time, math, ustruct, urandom\n",
    "\n",
    "pled = Pin(2, Pin.OUT)\n",
    "p0 = Pin(0, Pin.IN)  # boot button\n",
    "\n",
    "for i in range(10):\n",
    "    time.sleep_ms(200)\n",
    "    pled.value(i%2)\n",
    "\n",
    "deviceletter = \"@\"\n",
    "\n",
    "from UDPblackviewphone import connectActivePhone\n",
    "while not connectActivePhone(pled):\n",
    "    for j in range(3):\n",
    "        for i in range(7):\n",
    "            pled.value(i%2)\n",
    "            time.sleep_ms(100)\n",
    "        time.sleep_ms(800)\n",
    "\n",
    "import socket\n",
    "androidipnumber = \"192.168.43.1\"\n",
    "portnumber = 9042\n",
    "        \n",
    "ubs = bytearray(\"Ut00000000i00\\n\")\n",
    "mubs = memoryview(ubs)\n",
    "\n",
    "prevflushstamp = 0\n",
    "nextledonstamp = 0\n",
    "gpsfixes = 0\n",
    "\n",
    "while True:\n",
    "    try:\n",
    "        ss = socket.socket()\n",
    "        ss.settimeout(1)\n",
    "        print(ss)\n",
    "        ss.connect(socket.getaddrinfo(androidipnumber, portnumber)[0][-1])\n",
    "        s = ss.makefile('rwb', 0)\n",
    "        print(s.readline())\n",
    "        s.write(b\"%c%c%c%c\"%(deviceletter,deviceletter,deviceletter,deviceletter))\n",
    "        dwrite = s.write\n",
    "        while True:\n",
    "            tstamp = time.ticks_ms()\n",
    "            if tstamp > nextledonstamp:\n",
    "                pv = p0.value()\n",
    "                pled.value(pv)\n",
    "                mubs[2:10] = b\"%08X\" % tstamp\n",
    "                mubs[12] = 48+pv #'0'or'1'\n",
    "                s.write(ubs)\n",
    "                nextledonstamp = tstamp + 100\n",
    "                \n",
    "    except OSError as e:\n",
    "        print(\"OSError\", e)\n",
    "\n"
   ]
  },
  {
   "cell_type": "code",
   "execution_count": null,
   "metadata": {},
   "outputs": [],
   "source": []
  }
 ],
 "metadata": {
  "kernelspec": {
   "display_name": "MicroPython - USB",
   "language": "micropython",
   "name": "micropython"
  },
  "language_info": {
   "codemirror_mode": "python",
   "file_extension": ".py",
   "mimetype": "text/python",
   "name": "micropython"
  }
 },
 "nbformat": 4,
 "nbformat_minor": 2
}
