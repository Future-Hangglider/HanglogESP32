{
 "cells": [
  {
   "cell_type": "markdown",
   "metadata": {},
   "source": [
    "This is the code that goes into the hangpoint device with the \n",
    "camera and orientation sensor, connecting to the Blackview phone \n",
    "through port 9019.  (Ported over from AirTemperatureTech)"
   ]
  },
  {
   "cell_type": "code",
   "execution_count": 1,
   "metadata": {},
   "outputs": [
    {
     "name": "stdout",
     "output_type": "stream",
     "text": [
      "\u001b[34mConnecting to --port=/dev/ttyUSB8 --baud=115200 \u001b[0m\n",
      "\u001b[34mReady.\n",
      "\u001b[0m"
     ]
    }
   ],
   "source": [
    "%serialconnect"
   ]
  },
  {
   "cell_type": "code",
   "execution_count": 2,
   "metadata": {},
   "outputs": [
    {
     "name": "stdout",
     "output_type": "stream",
     "text": [
      "Sent 131 lines (4294 bytes) to BNO055_funcs.py.\n",
      "Sent 112 lines (4469 bytes) to BlueFly_funcs.py.\n",
      "Sent 92 lines (2739 bytes) to NewDataLogger_funcs.py.\n",
      "Sent 41 lines (1067 bytes) to UDPblackviewphone.py.\n"
     ]
    }
   ],
   "source": [
    "%sendtofile --quiet --source BNO055_funcs.py\n",
    "%sendtofile --quiet --source BlueFly_funcs.py\n",
    "%sendtofile --quiet --source NewDataLogger_funcs.py\n",
    "%sendtofile --quiet --source UDPblackviewphone.py\n"
   ]
  },
  {
   "cell_type": "code",
   "execution_count": 47,
   "metadata": {},
   "outputs": [
    {
     "name": "stdout",
     "output_type": "stream",
     "text": [
      "Sent 1 lines (1 bytes) to deviceletter.txt.\n"
     ]
    }
   ],
   "source": [
    "%sendtofile deviceletter.txt\n",
    "@"
   ]
  },
  {
   "cell_type": "code",
   "execution_count": 3,
   "metadata": {
    "scrolled": true
   },
   "outputs": [
    {
     "name": "stdout",
     "output_type": "stream",
     "text": [
      "Sent 92 lines (2215 bytes) to main.py.\n"
     ]
    }
   ],
   "source": [
    "%sendtofile main.py\n",
    "\n",
    "from machine import Pin, UART\n",
    "import os, time, math, ustruct, urandom\n",
    "from NewDataLogger_funcs import ConnectBluefly, readlogbluefly\n",
    "from BNO055_funcs import InitBNO055, readhexlifyBNO055\n",
    "\n",
    "# uartBlueFly = UART(1, baudrate=57600, rx=13, tx=17)\n",
    "# uartBNO055 = UART(2, baudrate=115200, rx=2, tx=18)\n",
    "\n",
    "pled = Pin(14, Pin.OUT)\n",
    "for i in range(10):\n",
    "    time.sleep_ms(200)\n",
    "    pled.value(i%2)\n",
    "\n",
    "pled.value(1)\n",
    "for i in range(5):\n",
    "    try:\n",
    "        k = InitBNO055()\n",
    "        print(k)\n",
    "        break\n",
    "    except OSError:\n",
    "        print(\"Bad BNO055\", i)\n",
    "    time.sleep(0.05)\n",
    "    pled.value(0)\n",
    "    time.sleep(0.1)\n",
    "    pled.value(1)\n",
    "    time.sleep(0.5)\n",
    "pled.value(0)\n",
    "\n",
    "ConnectBluefly(None, vol=20)\n",
    "\n",
    "for i in range(11):\n",
    "    pled.value(i%2)\n",
    "    time.sleep_ms(200)\n",
    "\n",
    "deviceletter = open(\"deviceletter.txt\", \"r\").read()\n",
    "print(\"deviceletter\", deviceletter)\n",
    "\n",
    "\n",
    "from UDPblackviewphone import connectActivePhone\n",
    "while not connectActivePhone(pled):\n",
    "    for j in range(3):\n",
    "        for i in range(7):\n",
    "            pled.value(i%2)\n",
    "            time.sleep_ms(100)\n",
    "        time.sleep_ms(800)\n",
    "\n",
    "        \n",
    "import socket\n",
    "androidipnumber = \"192.168.43.1\"\n",
    "portnumber = 9042\n",
    "        \n",
    "ubs = bytearray(\"Ut00000000i00\\n\")\n",
    "mubs = memoryview(ubs)\n",
    "\n",
    "prevflushstamp = 0\n",
    "nextledonstamp = 0\n",
    "gpsfixes = 0\n",
    "\n",
    "while True:\n",
    "    try:\n",
    "        ss = socket.socket()\n",
    "        ss.settimeout(1)\n",
    "        print(ss)\n",
    "        ss.connect(socket.getaddrinfo(androidipnumber, portnumber)[0][-1])\n",
    "        s = ss.makefile('rwb', 0)\n",
    "        print(s.readline())\n",
    "        s.write(b\"%c%c%c%c\"%(deviceletter,deviceletter,deviceletter,deviceletter))\n",
    "        dwrite = s.write\n",
    "        while True:\n",
    "            tstamp = time.ticks_ms()\n",
    "            if tstamp > nextledonstamp:\n",
    "                pv = (0 if pled.value() else 1)\n",
    "                pled.value(pv)\n",
    "                mubs[2:10] = b\"%08X\" % tstamp\n",
    "                mubs[12] = 48+pv #'0'or'1'\n",
    "                dwrite(ubs)\n",
    "                nextledonstamp = tstamp + urandom.randint(5000, 10000)//(10 if pv else 1)\n",
    "\n",
    "            lbf = readlogbluefly(dwrite)\n",
    "            bno055rec = readhexlifyBNO055(10)\n",
    "            if bno055rec:\n",
    "                dwrite(bno055rec)\n",
    "                \n",
    "    except OSError as e:\n",
    "        print(\"OSError\", e)\n",
    "\n",
    "\n",
    "\n",
    "\n",
    "        \n",
    "        \n",
    "        "
   ]
  },
  {
   "cell_type": "code",
   "execution_count": 6,
   "metadata": {},
   "outputs": [
    {
     "name": "stdout",
     "output_type": "stream",
     "text": [
      "\u001b[34mattempt to exit paste mode\n",
      "\u001b[0m\u001b[34m[\\r\\x03\\x02] \u001b[0mb'\\r\\nMicroPython v1.9.4-651-g0f6f86ca4 on 2018-10-17; ESP32 module with ESP32\\r\\nType \"help()\" for more information.\\r\\n>>> '\u001b[34m\n",
      "Closing serial Serial<id=0x7f21bd0b0e48, open=True>(port='/dev/ttyUSB0', baudrate=115200, bytesize=8, parity='N', stopbits=1, timeout=0.5, xonxoff=False, rtscts=False, dsrdtr=False)\n",
      "\u001b[0m"
     ]
    }
   ],
   "source": [
    "%disconnect"
   ]
  },
  {
   "cell_type": "code",
   "execution_count": null,
   "metadata": {},
   "outputs": [],
   "source": []
  },
  {
   "cell_type": "code",
   "execution_count": null,
   "metadata": {},
   "outputs": [],
   "source": []
  },
  {
   "cell_type": "code",
   "execution_count": null,
   "metadata": {},
   "outputs": [],
   "source": []
  },
  {
   "cell_type": "code",
   "execution_count": 40,
   "metadata": {},
   "outputs": [
    {
     "name": "stdout",
     "output_type": "stream",
     "text": [
      "\u001b[34mConnecting to --port=/dev/ttyUSB0 --baud=115200 \u001b[0m\n",
      "\u001b[34mReady.\n",
      "\u001b[0m"
     ]
    }
   ],
   "source": [
    "%serialconnect"
   ]
  },
  {
   "cell_type": "code",
   "execution_count": 48,
   "metadata": {},
   "outputs": [
    {
     "name": "stdout",
     "output_type": "stream",
     "text": [
      "Sent 54 lines (1354 bytes) to main.py.\n"
     ]
    }
   ],
   "source": [
    "# Bike rolling single button logger\n",
    "\n",
    "%sendtofile main.py\n",
    "\n",
    "from machine import Pin, UART\n",
    "import os, time, math, ustruct, urandom\n",
    "\n",
    "pled = Pin(2, Pin.OUT)\n",
    "p0 = Pin(0, Pin.IN)  # boot button\n",
    "\n",
    "for i in range(10):\n",
    "    time.sleep_ms(200)\n",
    "    pled.value(i%2)\n",
    "\n",
    "deviceletter = \"@\"\n",
    "\n",
    "from UDPblackviewphone import connectActivePhone\n",
    "while not connectActivePhone(pled):\n",
    "    for j in range(3):\n",
    "        for i in range(7):\n",
    "            pled.value(i%2)\n",
    "            time.sleep_ms(100)\n",
    "        time.sleep_ms(800)\n",
    "\n",
    "import socket\n",
    "androidipnumber = \"192.168.43.1\"\n",
    "portnumber = 9042\n",
    "        \n",
    "ubs = bytearray(\"Ut00000000i00\\n\")\n",
    "mubs = memoryview(ubs)\n",
    "\n",
    "prevflushstamp = 0\n",
    "nextledonstamp = 0\n",
    "gpsfixes = 0\n",
    "\n",
    "while True:\n",
    "    try:\n",
    "        ss = socket.socket()\n",
    "        ss.settimeout(1)\n",
    "        print(ss)\n",
    "        ss.connect(socket.getaddrinfo(androidipnumber, portnumber)[0][-1])\n",
    "        s = ss.makefile('rwb', 0)\n",
    "        print(s.readline())\n",
    "        s.write(b\"%c%c%c%c\"%(deviceletter,deviceletter,deviceletter,deviceletter))\n",
    "        dwrite = s.write\n",
    "        while True:\n",
    "            tstamp = time.ticks_ms()\n",
    "            if tstamp > nextledonstamp:\n",
    "                pv = p0.value()\n",
    "                pled.value(pv)\n",
    "                mubs[2:10] = b\"%08X\" % tstamp\n",
    "                mubs[12] = 48+pv #'0'or'1'\n",
    "                s.write(ubs)\n",
    "                nextledonstamp = tstamp + 100\n",
    "                \n",
    "    except OSError as e:\n",
    "        print(\"OSError\", e)\n",
    "\n"
   ]
  },
  {
   "cell_type": "code",
   "execution_count": null,
   "metadata": {},
   "outputs": [],
   "source": []
  }
 ],
 "metadata": {
  "kernelspec": {
   "display_name": "MicroPython - USB",
   "language": "micropython",
   "name": "micropython"
  },
  "language_info": {
   "codemirror_mode": "python",
   "file_extension": ".py",
   "mimetype": "text/python",
   "name": "micropython"
  }
 },
 "nbformat": 4,
 "nbformat_minor": 2
}
