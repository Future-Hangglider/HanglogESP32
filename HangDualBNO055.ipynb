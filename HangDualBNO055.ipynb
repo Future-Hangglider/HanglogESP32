{
 "cells": [
  {
   "cell_type": "code",
   "execution_count": 16,
   "metadata": {},
   "outputs": [
    {
     "name": "stdout",
     "output_type": "stream",
     "text": [
      "serial exception on close write failed: [Errno 5] Input/output error\n",
      "\u001b[34mConnecting to --port=/dev/ttyUSB4 --baud=115200 \u001b[0m\n",
      "\u001b[34mReady.\n",
      "\u001b[0m"
     ]
    }
   ],
   "source": [
    "%serialconnect"
   ]
  },
  {
   "cell_type": "code",
   "execution_count": 17,
   "metadata": {},
   "outputs": [
    {
     "name": "stdout",
     "output_type": "stream",
     "text": [
      "Sent 134 lines (5060 bytes) to BNO055_class.py.\n"
     ]
    }
   ],
   "source": [
    "%sendtofile --source BNO055_class.py"
   ]
  },
  {
   "cell_type": "code",
   "execution_count": 3,
   "metadata": {},
   "outputs": [
    {
     "name": "stdout",
     "output_type": "stream",
     "text": [
      "Sent 42 lines (1123 bytes) to UDPblackviewphone.py.\n"
     ]
    }
   ],
   "source": [
    "%sendtofile --source UDPblackviewphone.py"
   ]
  },
  {
   "cell_type": "code",
   "execution_count": 4,
   "metadata": {},
   "outputs": [
    {
     "name": "stdout",
     "output_type": "stream",
     "text": [
      "Sent 5 lines (132 bytes) to config.txt.\n"
     ]
    }
   ],
   "source": [
    "%sendtofile config.txt\n",
    "\n",
    "pinled       2\n",
    "deviceletter @\n",
    "connection0  JulianS9,beckaaaa,192.168.43.1,9042\n",
    "dev1         1,rx18,tx19,Z\n",
    "dev2         2,rx16,tx17,Y"
   ]
  },
  {
   "cell_type": "code",
   "execution_count": 14,
   "metadata": {},
   "outputs": [
    {
     "name": "stdout",
     "output_type": "stream",
     "text": [
      "Sent 75 lines (2297 bytes) to main.py.\n"
     ]
    }
   ],
   "source": [
    "%sendtofile --source HangDualBNO055.py main.py"
   ]
  },
  {
   "cell_type": "code",
   "execution_count": null,
   "metadata": {},
   "outputs": [],
   "source": [
    "# scl=19 sda=18\n",
    "# scl=tx sda=rx"
   ]
  },
  {
   "cell_type": "code",
   "execution_count": null,
   "metadata": {},
   "outputs": [],
   "source": []
  },
  {
   "cell_type": "code",
   "execution_count": null,
   "metadata": {},
   "outputs": [],
   "source": []
  },
  {
   "cell_type": "code",
   "execution_count": null,
   "metadata": {},
   "outputs": [],
   "source": []
  },
  {
   "cell_type": "code",
   "execution_count": null,
   "metadata": {},
   "outputs": [],
   "source": []
  },
  {
   "cell_type": "code",
   "execution_count": null,
   "metadata": {},
   "outputs": [],
   "source": []
  },
  {
   "cell_type": "code",
   "execution_count": null,
   "metadata": {},
   "outputs": [],
   "source": []
  },
  {
   "cell_type": "code",
   "execution_count": null,
   "metadata": {},
   "outputs": [],
   "source": []
  },
  {
   "cell_type": "code",
   "execution_count": null,
   "metadata": {},
   "outputs": [],
   "source": [
    "# Code for making servo PWM\n",
    "%serialconnect\n",
    "%sendtofile main.py\n",
    "import machine\n",
    "import time\n",
    "\n",
    "p = machine.PWM(machine.Pin(12), freq=100, duty=120)\n",
    "p.freq(100)\n",
    "p.duty(120)\n",
    "time.sleep_ms(500)\n",
    "\n",
    "while 1:\n",
    "    for i in range(120, 180):\n",
    "        p.duty(i)\n",
    "        time.sleep_ms(20)\n",
    "    for i in range(180, 120, -1):\n",
    "        p.duty(i)\n",
    "        time.sleep_ms(20)\n"
   ]
  },
  {
   "cell_type": "code",
   "execution_count": 1,
   "metadata": {},
   "outputs": [
    {
     "name": "stdout",
     "output_type": "stream",
     "text": [
      "\u001b[34mConnecting to --port=/dev/ttyUSB0 --baud=115200 \u001b[0m\n",
      "\u001b[34mReady.\n",
      "\u001b[0m"
     ]
    }
   ],
   "source": [
    "# Code for detecting servo pwm\n",
    "%serialconnect"
   ]
  },
  {
   "cell_type": "code",
   "execution_count": 81,
   "metadata": {},
   "outputs": [],
   "source": [
    "import machine\n",
    "p12 = machine.Pin(12, machine.Pin.IN, machine.Pin.PULL_DOWN)"
   ]
  },
  {
   "cell_type": "code",
   "execution_count": 82,
   "metadata": {},
   "outputs": [
    {
     "name": "stdout",
     "output_type": "stream",
     "text": [
      "00000100000100000010000001000000100000100000010000001000000100000000000010000001\r\n"
     ]
    }
   ],
   "source": [
    "print(\"\".join(\"%d\" % p.value()  for i in range(80)))"
   ]
  },
  {
   "cell_type": "code",
   "execution_count": 79,
   "metadata": {},
   "outputs": [
    {
     "name": "stdout",
     "output_type": "stream",
     "text": [
      "object <bound_method> is of type bound_method\n"
     ]
    }
   ],
   "source": [
    "help(p.irq)"
   ]
  },
  {
   "cell_type": "code",
   "execution_count": 99,
   "metadata": {},
   "outputs": [],
   "source": [
    "import time\n",
    "p12up = -1\n",
    "p12dd = -1\n",
    "def p12irq(p):\n",
    "    global p12up, p12dd\n",
    "    if p.value() == 1:\n",
    "        p12up = time.ticks_us()\n",
    "    else:\n",
    "        p12dd = time.ticks_us() - p12up\n",
    "        p12up = -1\n",
    "p12.irq(handler=p12irq, trigger=machine.Pin.IRQ_FALLING | machine.Pin.IRQ_RISING)\n",
    "       "
   ]
  },
  {
   "cell_type": "code",
   "execution_count": 128,
   "metadata": {},
   "outputs": [
    {
     "name": "stdout",
     "output_type": "stream",
     "text": [
      "1005619406 1666 1650 1697 1699 1718 1719 1726 1727 1720 1737 1708 1706 1700 1696 \n",
      "1694 1686 1673 1675 1661 1667 1658 1660 1648 1651 1638 1639 1628 1627 1616 \n",
      "1624 1596 1603 1603 1605 1593 1595 1593 1583 1587 1568 1571 1566 1568 1554 \n",
      "1558 1545 1548 1531 1534 1525 1522 1514 1521 1508 1503 1496 1496 1489 1486 \n",
      "1473 1479 1466 1466 1459 1454 1445 1451 1438 1435 1426 1429 1419 1421 1410 \n",
      "1405 1395 1399 1389 1388 1375 1380 1371 1371 1362 1356 1349 1351 1337 1339 \n",
      "1322 1329 1297 1317 1314 1311 1302 1302 1291 1288 1283 1280 1271 1271 1262 \n",
      "1262 1249 1249 1246 1244 1232 1234 1220 1219 1214 1212 1206 1200 1193 1189 \n",
      "1185 1181 1174 1174 1165 1165 1156 1153 1147 1141 1154 1149 1164 1119 1172 \n",
      "1176 1181 1183 1189 1197 1207 1202 1216 1215 1222 1222 1232 1235 1244 1238 \n",
      "1250 1249 1258 1261 1271 1272 1288 1284 1288 1294 1299 1304 1311 1331 1322 \n",
      "1319 1330 1331 1340 1339 1348 1348 1361 1353 1370 1370 1378 1378 1389 1385 \n",
      "1398 1395 1405 1409 1413 1417 1420 1429 1439 1436 1446 1451 1457 1454 1469 \n",
      "1467 1476 1474 1484 1485 1496 1501 1508 1504 1516 1515 1523 1526 1529 1537 \n",
      "1541 1545 1556 1552 1566 1567 1578 1573 1582 1587 1590 1592 1604 1602 1620 \n",
      "1614 1601 1613 1627 1630 1639 1637 1647 1649 1665 1657 1665 1666 1676 1678 \n",
      "1687 1688 1696 1696 1706 1708 1718 1714 1730 1726 "
     ]
    }
   ],
   "source": [
    "for i in range(250):\n",
    "    while p12dd == -1:\n",
    "        pass\n",
    "    print(p12dd, end=\" \")\n",
    "    p12dd = -1\n",
    "    if (i % 15) == 14:\n",
    "        print()\n"
   ]
  },
  {
   "cell_type": "code",
   "execution_count": null,
   "metadata": {},
   "outputs": [],
   "source": []
  }
 ],
 "metadata": {
  "kernelspec": {
   "display_name": "MicroPython - USB",
   "language": "micropython",
   "name": "micropython"
  },
  "language_info": {
   "codemirror_mode": "python",
   "file_extension": ".py",
   "mimetype": "text/python",
   "name": "micropython"
  }
 },
 "nbformat": 4,
 "nbformat_minor": 2
}
