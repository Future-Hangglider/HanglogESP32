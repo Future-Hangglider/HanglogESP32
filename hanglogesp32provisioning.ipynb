{
 "cells": [
  {
   "cell_type": "code",
   "execution_count": null,
   "metadata": {},
   "outputs": [],
   "source": [
    "# This page is for provisioning an ESP32 GPS device for the wingtip or base-station.  \n",
    "# This interfaces with the Hanglog3 android app to record the data, which the \n",
    "# scripts in this repository can interact with to enable RTK technology\n"
   ]
  },
  {
   "cell_type": "code",
   "execution_count": 20,
   "metadata": {},
   "outputs": [
    {
     "name": "stdout",
     "output_type": "stream",
     "text": [
      "\u001b[34mattempt to exit paste mode\n",
      "\u001b[0m\u001b[34m[\\r\\x03\\x02] \u001b[0mb'\\r\\nMicroPython v1.12-606-g07f181a21 on 2020-07-01; ESP32 module with ESP32\\r\\nType \"help()\" for more information.\\r\\n>>> '\u001b[34m\n",
      "Closing serial Serial<id=0x7f80107bfc10, open=True>(port='/dev/ttyUSB0', baudrate=115200, bytesize=8, parity='N', stopbits=1, timeout=0.5, xonxoff=False, rtscts=False, dsrdtr=False)\n",
      "\u001b[0m\u001b[34mExecuting:\n",
      "  esptool.py --port /dev/ttyUSB0 erase_flash\n",
      "\n",
      "\u001b[0mesptool.py v2.8\n",
      "Serial port /dev/ttyUSB0\n",
      "Connecting.......\n",
      "\u001b[34m[Press the PRG button now if required]\n",
      "\u001b[0mDetecting chip type... ESP32\n",
      "Chip is ESP32D0WDQ6 (revision 1)\n",
      "Features: WiFi, BT, Dual Core, 240MHz, VRef calibration in efuse, Coding Scheme None\n",
      "Crystal is 40MHz\n",
      "MAC: 3c:71:bf:ff:67:7c\n",
      "Uploading stub...\n",
      "Running stub...\n",
      "Stub running...\n",
      "Erasing flash (this may take a while)...\n",
      "Chip erase completed successfully in 9.2s\n",
      "Hard resetting via RTS pin...\n"
     ]
    }
   ],
   "source": [
    "#### esptool.py --port /dev/ttyUSB1 erase_flash\n",
    "%esptool erase"
   ]
  },
  {
   "cell_type": "code",
   "execution_count": 21,
   "metadata": {},
   "outputs": [
    {
     "name": "stdout",
     "output_type": "stream",
     "text": [
      "\u001b[34mExecuting:\n",
      "  esptool.py --port /dev/ttyUSB0 --chip esp32 write_flash -z 0x1000 /home/julian/executables/micropythonbins/esp32-idf4-20200701-unstable-v1.12-606-g07f181a21.bin\n",
      "\n",
      "\u001b[0mesptool.py v2.8\n",
      "Serial port /dev/ttyUSB0\n",
      "Connecting....\n",
      "\u001b[34m[Press the PRG button now if required]\n",
      "\u001b[0mChip is ESP32D0WDQ6 (revision 1)\n",
      "Features: WiFi, BT, Dual Core, 240MHz, VRef calibration in efuse, Coding Scheme None\n",
      "Crystal is 40MHz\n",
      "MAC: 3c:71:bf:ff:67:7c\n",
      "Uploading stub...\n",
      "Running stub...\n",
      "Stub running...\n",
      "Configuring flash size...\n",
      "Auto-detected Flash size: 4MB\n",
      "Compressed 1448848 bytes to 924753...\n",
      "Wrote 1448848 bytes (924753 compressed) at 0x00001000 in 82.2 seconds (effective 141.0 kbit/s)...\n",
      "Hash of data verified.\n",
      "\n",
      "Leaving...\n",
      "Hard resetting via RTS pin...\n"
     ]
    }
   ],
   "source": [
    "#### esptool.py --port /dev/ttyUSB0 --chip esp32 write_flash -z 0x1000 /home/julian/executables/micropythonbins/esp32-idf4-20200124-v1.12-87-g96716b46e.bin\n",
    "%esptool esp32 /home/julian/executables/micropythonbins/esp32-idf4-20200701-unstable-v1.12-606-g07f181a21.bin"
   ]
  },
  {
   "cell_type": "code",
   "execution_count": 22,
   "metadata": {},
   "outputs": [
    {
     "name": "stdout",
     "output_type": "stream",
     "text": [
      "\u001b[34mConnecting to --port=/dev/ttyUSB0 --baud=115200 \u001b[0m\n",
      "\u001b[34mReady.\n",
      "\u001b[0m"
     ]
    }
   ],
   "source": [
    "%serialconnect"
   ]
  },
  {
   "cell_type": "code",
   "execution_count": 23,
   "metadata": {},
   "outputs": [
    {
     "name": "stdout",
     "output_type": "stream",
     "text": [
      "__main__          gc                uasyncio/stream   upip_utarfile\n",
      "_boot             inisetup          ubinascii         upysh\n",
      "_onewire          machine           ubluetooth        urandom\n",
      "_thread           math              ucollections      ure\n",
      "_uasyncio         micropython       ucryptolib        urequests\n",
      "_webrepl          neopixel          uctypes           uselect\n",
      "apa106            network           uerrno            usocket\n",
      "btree             ntptime           uhashlib          ussl\n",
      "builtins          onewire           uhashlib          ustruct\n",
      "cmath             sys               uheapq            utime\n",
      "dht               uarray            uio               utimeq\n",
      "ds18x20           uasyncio/__init__ ujson             uwebsocket\n",
      "esp               uasyncio/core     umqtt/robust      uzlib\n",
      "esp32             uasyncio/event    umqtt/simple      webrepl\n",
      "flashbdev         uasyncio/funcs    uos               webrepl_setup\n",
      "framebuf          uasyncio/lock     upip              websocket_helper\n",
      "Plus any modules on the filesystem\n"
     ]
    }
   ],
   "source": [
    "help(\"modules\")"
   ]
  },
  {
   "cell_type": "code",
   "execution_count": 624,
   "metadata": {},
   "outputs": [
    {
     "name": "stdout",
     "output_type": "stream",
     "text": [
      "serial exception on close write failed: [Errno 5] Input/output error\n",
      "\u001b[34mConnecting to --port=/dev/ttyUSB1 --baud=115200 \u001b[0m\n",
      "\u001b[34mReady.\n",
      "\u001b[0m"
     ]
    }
   ],
   "source": [
    "%serialconnect"
   ]
  },
  {
   "cell_type": "code",
   "execution_count": 634,
   "metadata": {},
   "outputs": [
    {
     "name": "stdout",
     "output_type": "stream",
     "text": [
      "Sent 6 lines (183 bytes) to config.txt.\n"
     ]
    }
   ],
   "source": [
    "%sendtofile config.txt\n",
    "\n",
    "deviceletter   A\n",
    "pinled         2\n",
    "pingled        23\n",
    "pinbatteryadc  34,6800,2200,3.8\n",
    "connection1    BV6000,beckaaaa,192.168.43.1,9042\n",
    "connection0    JulianS9,beckaaaa,192.168.43.1,9042"
   ]
  },
  {
   "cell_type": "code",
   "execution_count": 679,
   "metadata": {},
   "outputs": [
    {
     "name": "stdout",
     "output_type": "stream",
     "text": [
      "Sent 5 lines (165 bytes) to config.txt.\n"
     ]
    }
   ],
   "source": [
    "%sendtofile config.txt\n",
    "\n",
    "deviceletter   B\n",
    "pinled         2\n",
    "pinbatteryadc  34,6800,2200,3.8\n",
    "connection1    BV6000,beckaaaa,192.168.43.1,9042\n",
    "connection0    JulianS9,beckaaaa,192.168.43.1,9042"
   ]
  },
  {
   "cell_type": "code",
   "execution_count": 24,
   "metadata": {},
   "outputs": [
    {
     "name": "stdout",
     "output_type": "stream",
     "text": [
      "Sent 7 lines (213 bytes) to config.txt.\n"
     ]
    }
   ],
   "source": [
    "%sendtofile config.txt\n",
    "\n",
    "deviceletter   C\n",
    "pinled         2\n",
    "pinbatteryadc  34,6800,2200,3.6\n",
    "connection1    BV6000,beckaaaa,192.168.43.1,9042\n",
    "connection0    JulianS9,beckaaaa,192.168.43.1,9042\n",
    "sdcard         5,18,23,19,/sd\n",
    "wifi2sdtimeout 10"
   ]
  },
  {
   "cell_type": "code",
   "execution_count": 31,
   "metadata": {},
   "outputs": [
    {
     "name": "stdout",
     "output_type": "stream",
     "text": [
      "Sent 281 lines (8634 bytes) to sdcard.py.\n"
     ]
    }
   ],
   "source": [
    "%sendtofile --source sdcard.py"
   ]
  },
  {
   "cell_type": "code",
   "execution_count": 38,
   "metadata": {},
   "outputs": [
    {
     "name": "stdout",
     "output_type": "stream",
     "text": [
      "Sent 163 lines (5648 bytes) to asyncutils.py.\n"
     ]
    }
   ],
   "source": [
    "%sendtofile --source asyncutils.py"
   ]
  },
  {
   "cell_type": "code",
   "execution_count": 9,
   "metadata": {},
   "outputs": [
    {
     "name": "stdout",
     "output_type": "stream",
     "text": [
      "Sent 202 lines (8072 bytes) to main.py.\n"
     ]
    }
   ],
   "source": [
    "%sendtofile --source main.py\n"
   ]
  },
  {
   "cell_type": "code",
   "execution_count": 8,
   "metadata": {},
   "outputs": [
    {
     "name": "stdout",
     "output_type": "stream",
     "text": [
      "serial exception on close write failed: [Errno 5] Input/output error\n",
      "\u001b[34mConnecting to --port=/dev/ttyUSB1 --baud=115200 \u001b[0m\n",
      "\u001b[34mReady.\n",
      "\u001b[0m"
     ]
    }
   ],
   "source": [
    "%serialconnect"
   ]
  },
  {
   "cell_type": "code",
   "execution_count": 586,
   "metadata": {},
   "outputs": [
    {
     "name": "stdout",
     "output_type": "stream",
     "text": [
      "Sent 167 lines (5638 bytes) to asyncutils.py.\n"
     ]
    }
   ],
   "source": []
  },
  {
   "cell_type": "code",
   "execution_count": 3,
   "metadata": {},
   "outputs": [
    {
     "name": "stdout",
     "output_type": "stream",
     "text": [
      "serial exception on close write failed: [Errno 5] Input/output error\n",
      "\u001b[34mConnecting to --port=/dev/ttyUSB1 --baud=115200 \u001b[0m\n",
      "\u001b[34mReady.\n",
      "\u001b[0m"
     ]
    }
   ],
   "source": [
    "%serialconnect"
   ]
  },
  {
   "cell_type": "code",
   "execution_count": null,
   "metadata": {},
   "outputs": [
    {
     "name": "stdout",
     "output_type": "stream",
     "text": [
      "Listing directory 'sd'.\n"
     ]
    },
    {
     "name": "stderr",
     "output_type": "stream",
     "text": [
      ">>"
     ]
    }
   ],
   "source": [
    "%ls sd"
   ]
  },
  {
   "cell_type": "code",
   "execution_count": 9,
   "metadata": {},
   "outputs": [],
   "source": [
    "import os\n",
    "os.remove(\"sd/hdata-2020-07-26_16-59-15C.ubx\")"
   ]
  },
  {
   "cell_type": "code",
   "execution_count": 34,
   "metadata": {},
   "outputs": [
    {
     "name": "stdout",
     "output_type": "stream",
     "text": [
      "['asyncutils.py', 'boot.py', 'config.txt']\r\n"
     ]
    }
   ],
   "source": [
    "import os\n",
    "print(os.listdir())"
   ]
  },
  {
   "cell_type": "code",
   "execution_count": 4,
   "metadata": {},
   "outputs": [
    {
     "name": "stdout",
     "output_type": "stream",
     "text": [
      "\u001b[34mConnecting to --port=/dev/ttyUSB1 --baud=115200 \u001b[0m\n",
      "\u001b[34mReady.\n",
      "\u001b[0m"
     ]
    }
   ],
   "source": [
    "%serialconnect"
   ]
  },
  {
   "cell_type": "code",
   "execution_count": 6,
   "metadata": {
    "scrolled": false
   },
   "outputs": [
    {
     "name": "stdout",
     "output_type": "stream",
     "text": [
      "\u001b[32mWriting main.py\n",
      "\n",
      "\u001b[0m"
     ]
    }
   ],
   "source": [
    "    "
   ]
  },
  {
   "cell_type": "code",
   "execution_count": null,
   "metadata": {},
   "outputs": [
    {
     "name": "stdout",
     "output_type": "stream",
     "text": [
      "Listing directory 'sd'.\n"
     ]
    },
    {
     "name": "stderr",
     "output_type": "stream",
     "text": [
      ">>"
     ]
    }
   ],
   "source": [
    "%ls sd"
   ]
  },
  {
   "cell_type": "code",
   "execution_count": 259,
   "metadata": {},
   "outputs": [
    {
     "name": "stdout",
     "output_type": "stream",
     "text": [
      "serial exception on close write failed: [Errno 5] Input/output error\n",
      "\u001b[34mConnecting to --port=/dev/ttyUSB1 --baud=115200 \u001b[0m\n",
      "\u001b[34mReady.\n",
      "\u001b[0m"
     ]
    }
   ],
   "source": [
    "%serialconnect"
   ]
  },
  {
   "cell_type": "code",
   "execution_count": 576,
   "metadata": {},
   "outputs": [
    {
     "name": "stdout",
     "output_type": "stream",
     "text": [
      "1\r\n"
     ]
    }
   ],
   "source": [
    "print(b'\\xb5b\\x010\\x04\\x01\\x10\\x1d\\xf1\\x18'[5])"
   ]
  },
  {
   "cell_type": "code",
   "execution_count": 591,
   "metadata": {},
   "outputs": [
    {
     "name": "stdout",
     "output_type": "stream",
     "text": [
      "serial exception on close write failed: [Errno 5] Input/output error\n",
      "\u001b[34mConnecting to --port=/dev/ttyUSB1 --baud=115200 \u001b[0m\n",
      "Traceback (most recent call last):\n",
      "  File \"main.py\", line 158, in <module>\n",
      "  File \"uasyncio/core.py\", line 1, in run_forever\n",
      "  File \"uasyncio/core.py\", line 1, in run_until_complete\n",
      "  File \"main.py\", line 47, in manageconnectiontask\n",
      "  File \"asyncutils.py\", line 81, in wificonnect\n",
      "KeyboardInterrupt: \n",
      "MicroPython v1.12-606-g07f181a21 on 2020-07-01; ESP32 module with ESP32\n",
      "Type \"help()\" for more information.\n",
      ">>> \n",
      ">>> \n",
      "raw REPL; CTRL-B to exit\n",
      ">\u001b[34mReady.\n",
      "\u001b[0m"
     ]
    }
   ],
   "source": [
    "%serialconnect"
   ]
  },
  {
   "cell_type": "code",
   "execution_count": 593,
   "metadata": {},
   "outputs": [
    {
     "name": "stdout",
     "output_type": "stream",
     "text": [
      "/sd\r\n"
     ]
    }
   ],
   "source": [
    "from asyncutils import mountsd\n",
    "print(mountsd())"
   ]
  },
  {
   "cell_type": "code",
   "execution_count": 595,
   "metadata": {},
   "outputs": [
    {
     "name": "stdout",
     "output_type": "stream",
     "text": [
      "Listing directory 'sd'.\n",
      "             sd/OOH/\n",
      "             sd/System Volume Information/\n",
      "  1474115    sd/hdata-2020-07-07_20-43-28C.ubx\n",
      "  3397565    sd/hdata-2020-07-10_09-43-54C.ubx\n"
     ]
    }
   ],
   "source": [
    "%ls sd\n"
   ]
  },
  {
   "cell_type": "code",
   "execution_count": 596,
   "metadata": {},
   "outputs": [
    {
     "name": "stdout",
     "output_type": "stream",
     "text": [
      "Fetched 3397565=3397565 bytes from sd/hdata-2020-07-10_09-43-54C.ubx.\n",
      "Saving file to 'hdata-2020-07-10_09-43-54C.ubx'"
     ]
    }
   ],
   "source": [
    "%fetchfile --binary sd/hdata-2020-07-10_09-43-54C.ubx"
   ]
  },
  {
   "cell_type": "code",
   "execution_count": null,
   "metadata": {},
   "outputs": [],
   "source": []
  }
 ],
 "metadata": {
  "kernelspec": {
   "display_name": "MicroPython - USB",
   "language": "micropython",
   "name": "micropython"
  },
  "language_info": {
   "codemirror_mode": "python",
   "file_extension": ".py",
   "mimetype": "text/python",
   "name": "micropython"
  }
 },
 "nbformat": 4,
 "nbformat_minor": 2
}
