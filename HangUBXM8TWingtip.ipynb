{
 "cells": [
  {
   "cell_type": "code",
   "execution_count": null,
   "metadata": {},
   "outputs": [],
   "source": [
    "# This page is for provisioning an ESP32 GPS device for the wingtip or base-station.  \n",
    "# For the main unit logger with the other sensors, look at HangDataLogger\n"
   ]
  },
  {
   "cell_type": "code",
   "execution_count": 3,
   "metadata": {},
   "outputs": [
    {
     "name": "stdout",
     "output_type": "stream",
     "text": [
      "\u001b[34mConnecting to --port=/dev/ttyUSB0 --baud=115200 \u001b[0m\n",
      "\u001b[34mReady.\n",
      "\u001b[0m"
     ]
    }
   ],
   "source": [
    "%serialconnect"
   ]
  },
  {
   "cell_type": "code",
   "execution_count": 4,
   "metadata": {},
   "outputs": [
    {
     "name": "stdout",
     "output_type": "stream",
     "text": [
      "Listing directory '/'.\n",
      "      139    boot.py\n"
     ]
    }
   ],
   "source": [
    "%ls"
   ]
  },
  {
   "cell_type": "code",
   "execution_count": 5,
   "metadata": {},
   "outputs": [
    {
     "name": "stdout",
     "output_type": "stream",
     "text": [
      "Sent 66 lines (2004 bytes) to ubxminimal.py.\n"
     ]
    }
   ],
   "source": [
    "%sendtofile --source UDPblackviewphone.py\n",
    "%sendtofile --source ubxminimal.py"
   ]
  },
  {
   "cell_type": "code",
   "execution_count": 6,
   "metadata": {},
   "outputs": [
    {
     "name": "stdout",
     "output_type": "stream",
     "text": [
      "Sent 1 lines (1 bytes) to deviceletter.txt.\n"
     ]
    }
   ],
   "source": [
    "%sendtofile deviceletter.txt\n",
    "A"
   ]
  },
  {
   "cell_type": "code",
   "execution_count": 15,
   "metadata": {},
   "outputs": [
    {
     "name": "stdout",
     "output_type": "stream",
     "text": [
      "\u001b[34mConnecting to --port=/dev/ttyUSB0 --baud=115200 \u001b[0m\n",
      "\u001b[34mReady.\n",
      "\u001b[0m"
     ]
    }
   ],
   "source": [
    "%serialconnect"
   ]
  },
  {
   "cell_type": "code",
   "execution_count": 16,
   "metadata": {},
   "outputs": [
    {
     "name": "stdout",
     "output_type": "stream",
     "text": [
      "Sent 4 lines (204 bytes) to hotspots.txt.\n"
     ]
    }
   ],
   "source": [
    "%sendtofile hotspots.txt\n",
    "\n",
    "BV6000         beckaaaa    192.168.43.1   9042\n",
    "ES_3041        43900000    192.168.43.1   9042\n",
    "JulianS9       beckaaaa    192.168.43.1   9042\n",
    "DoESLiverpool  decafbad00  node-red.dynamicdevices.co.uk   4006"
   ]
  },
  {
   "cell_type": "code",
   "execution_count": 42,
   "metadata": {},
   "outputs": [
    {
     "name": "stdout",
     "output_type": "stream",
     "text": [
      "\u001b[34mConnecting to --port=/dev/ttyUSB3 --baud=115200 \u001b[0m\n",
      "\u001b[34mReady.\n",
      "\u001b[0m"
     ]
    }
   ],
   "source": [
    "%serialconnect"
   ]
  },
  {
   "cell_type": "code",
   "execution_count": 8,
   "metadata": {},
   "outputs": [
    {
     "name": "stdout",
     "output_type": "stream",
     "text": [
      "Sent 93 lines (2968 bytes) to main.py.\n"
     ]
    }
   ],
   "source": [
    "%sendtofile main.py\n",
    "\n",
    "import time, machine\n",
    "\n",
    "# delay long enough for Ctrl-C before the wlan bricks it for debugging\n",
    "# reset_cause=1:PWRON_RESET, 2:HARD, 5:SOFT (brownout detected)\n",
    "pled = machine.Pin(2, machine.Pin.OUT)\n",
    "for i in range(2*(machine.reset_cause())):\n",
    "    pled.value(1-(i%2))\n",
    "    time.sleep_ms(400)  \n",
    "\n",
    "# Set up flashing LED timer (better control than PWM)\n",
    "pgled = machine.Pin(23, machine.Pin.OUT)\n",
    "timeracc = 0\n",
    "timermax = 1000\n",
    "timerlight = 100\n",
    "timeradd = 50\n",
    "def timercallback(t):\n",
    "    global timeracc\n",
    "    timeracc = (timeracc + timeradd)%timermax\n",
    "    pgled.value(int(timeracc<timerlight))\n",
    "timer = machine.Timer(-1)\n",
    "timer.init(period=50, mode=machine.Timer.PERIODIC, callback=timercallback)\n",
    "\n",
    "# Serial connection to the UBlox GPS device\n",
    "from ubxminimal import uartUBX, initUBX\n",
    "initUBX()\n",
    "\n",
    "for i in range(11):\n",
    "    pled.value(i%2)\n",
    "    time.sleep_ms(200)\n",
    "\n",
    "print(\"RESET_CAUSE\", machine.reset_cause())\n",
    "deviceletter = open(\"deviceletter.txt\", \"r\").read()\n",
    "print(\"deviceletter\", deviceletter)\n",
    "\n",
    "from UDPblackviewphone import connectActivePhone\n",
    "while True:\n",
    "    androidipnumber, portnumber = connectActivePhone(pled)\n",
    "    if androidipnumber is not None:\n",
    "        break\n",
    "    for j in range(3):\n",
    "        for i in range(7):\n",
    "            pled.value(i%2)\n",
    "            time.sleep_ms(100)\n",
    "        time.sleep_ms(800)\n",
    "\n",
    "for i in range(21):\n",
    "    pled.value(i%2)\n",
    "    time.sleep_ms(80)\n",
    "\n",
    "import socket, uselect\n",
    "\n",
    "ubxbuffer = bytearray(1000)\n",
    "mubxbuffer = memoryview(ubxbuffer)\n",
    "timelastledsignal = 0\n",
    "totalbytes = 0\n",
    "obj = None\n",
    "while True:\n",
    "    timermax = 4000  # slow down signal to show it's broken\n",
    "    try:\n",
    "        ss = socket.socket()\n",
    "        ss.settimeout(1)\n",
    "        print(ss)\n",
    "        ss.connect(socket.getaddrinfo(androidipnumber, portnumber)[0][-1])\n",
    "        s = ss.makefile('rwb', 0)\n",
    "        print(s.readline())\n",
    "        s.write(b\"%c%c%c%c\"%(deviceletter,deviceletter,deviceletter,deviceletter))\n",
    "        poller = uselect.poll()\n",
    "        poller.register(uartUBX, uselect.POLLIN)\n",
    "        poller.register(s, uselect.POLLIN)\n",
    "        while True:\n",
    "            for obj, evt in poller.ipoll(100):\n",
    "                if obj == uartUBX and evt == uselect.POLLIN:\n",
    "                    n = uartUBX.readinto(ubxbuffer)\n",
    "                    if n is not None:\n",
    "                        s.write(mubxbuffer[:n])\n",
    "                        pled.value(1-pled.value())\n",
    "                        totalbytes += n\n",
    "                    if time.ticks_ms() - timelastledsignal > 2000:\n",
    "                        timermax = 3000  # slow down signal to show it's broken\n",
    "\n",
    "                if obj == s and evt == uselect.POLLIN:\n",
    "                    timelastledsignal = time.ticks_ms()\n",
    "                    timermax = 1000\n",
    "                    l = s.readline()\n",
    "                    try:\n",
    "                        print(l)\n",
    "                        timeradd, timerlight = list(map(int, l.split()))\n",
    "                    except ValueError as e:\n",
    "                        print(\"ValueError\", e)\n",
    "    except OSError as e:\n",
    "        print(\"OSError\", e, obj)\n",
    "        time.sleep_ms(2000)\n",
    "\n"
   ]
  },
  {
   "cell_type": "code",
   "execution_count": null,
   "metadata": {},
   "outputs": [],
   "source": []
  },
  {
   "cell_type": "code",
   "execution_count": 19,
   "metadata": {},
   "outputs": [
    {
     "name": "stdout",
     "output_type": "stream",
     "text": [
      "\u001b[34mConnecting to --port=/dev/ttyUSB0 --baud=115200 \u001b[0m\n",
      "\u001b[34mReady.\n",
      "\u001b[0m"
     ]
    }
   ],
   "source": [
    "%serialconnect"
   ]
  },
  {
   "cell_type": "code",
   "execution_count": 20,
   "metadata": {},
   "outputs": [
    {
     "name": "stdout",
     "output_type": "stream",
     "text": [
      "Sent 34 lines (1031 bytes) to utils.py.\n"
     ]
    }
   ],
   "source": [
    "%sendtofile utils.py\n",
    "\n",
    "import os\n",
    "\n",
    "def updatehotspots(c=\"hotspots.txt\"):\n",
    "    while True:\n",
    "        print(\"\\n\\n\", c, \":\\n\")\n",
    "        with open(c) as fin:\n",
    "            for x in fin:\n",
    "                print(x.strip())\n",
    "        y = input(\"\\ninput line> \")\n",
    "        ys = y.split()\n",
    "        if len(ys) != 1 and len(ys) != 4:\n",
    "            return\n",
    "        cd = \"E\"+c\n",
    "        with open(cd, \"w\") as fout:\n",
    "            with open(c) as fin:\n",
    "                x = None\n",
    "                for x in fin:\n",
    "                    xs = x.split()\n",
    "                    if ys is not None and ys[0] == xs[0]:\n",
    "                        if len(ys) != 1:\n",
    "                            fout.write(y)\n",
    "                            fout.write(\"\\n\")\n",
    "                        ys = None\n",
    "                    else:\n",
    "                        fout.write(x)\n",
    "            if ys is not None and len(ys) != 1:\n",
    "                if x is not None:\n",
    "                    fout.write(\"\\n\")\n",
    "                fout.write(y)\n",
    "                fout.write(\"\\n\")\n",
    "        os.rename(cd, c)\n",
    "        \n",
    "print(\"calling updatehotspots\")\n",
    "updatehotspots()"
   ]
  },
  {
   "cell_type": "code",
   "execution_count": 21,
   "metadata": {},
   "outputs": [
    {
     "name": "stdout",
     "output_type": "stream",
     "text": [
      "\u001b[34mattempt to exit paste mode\n",
      "\u001b[0m\u001b[34m[\\r\\x03\\x02] \u001b[0mb'\\r\\nMicroPython v1.11-126-g7c2e83324 on 2019-07-06; ESP32 module with ESP32\\r\\nType \"help()\" for more information.\\r\\n>>> '\u001b[34m\n",
      "Closing serial Serial<id=0x7fd6238c01d0, open=True>(port='/dev/ttyUSB0', baudrate=115200, bytesize=8, parity='N', stopbits=1, timeout=0.5, xonxoff=False, rtscts=False, dsrdtr=False)\n",
      "\u001b[0m"
     ]
    }
   ],
   "source": [
    "%disconnect"
   ]
  },
  {
   "cell_type": "code",
   "execution_count": null,
   "metadata": {},
   "outputs": [],
   "source": []
  },
  {
   "cell_type": "code",
   "execution_count": null,
   "metadata": {},
   "outputs": [],
   "source": []
  },
  {
   "cell_type": "code",
   "execution_count": null,
   "metadata": {},
   "outputs": [],
   "source": []
  },
  {
   "cell_type": "code",
   "execution_count": 93,
   "metadata": {},
   "outputs": [
    {
     "name": "stdout",
     "output_type": "stream",
     "text": [
      "b'AAAA'\n"
     ]
    }
   ],
   "source": [
    "deviceletter = open(\"deviceletter.txt\", \"r\").read()\n",
    "print(b\"%c%c%c%c\"%(deviceletter,deviceletter,deviceletter,deviceletter))"
   ]
  },
  {
   "cell_type": "code",
   "execution_count": 100,
   "metadata": {},
   "outputs": [
    {
     "name": "stdout",
     "output_type": "stream",
     "text": [
      "PWM(23, freq=10, duty=700)\n"
     ]
    }
   ],
   "source": [
    "#print(s.readline())\n",
    "print(pgled)\n",
    "pgled.freq(2)\n",
    "pgled.duty(700)"
   ]
  },
  {
   "cell_type": "code",
   "execution_count": 94,
   "metadata": {},
   "outputs": [
    {
     "name": "stderr",
     "output_type": "stream",
     "text": [
      "Traceback (most recent call last):\n",
      "  File \"<stdin>\", line 2, in <module>\n",
      "OSError: [Errno 110] ETIMEDOUT\n"
     ]
    }
   ],
   "source": [
    "for i in range(20):\n",
    "    print(s.readline())"
   ]
  },
  {
   "cell_type": "code",
   "execution_count": null,
   "metadata": {},
   "outputs": [],
   "source": []
  },
  {
   "cell_type": "code",
   "execution_count": 1,
   "metadata": {},
   "outputs": [
    {
     "name": "stdout",
     "output_type": "stream",
     "text": [
      "\u001b[34mConnecting to --port=/dev/ttyUSB3 --baud=115200 \u001b[0m\n",
      "\u001b[34mReady.\n",
      "\u001b[0m"
     ]
    }
   ],
   "source": [
    "%serialconnect"
   ]
  },
  {
   "cell_type": "code",
   "execution_count": 3,
   "metadata": {},
   "outputs": [
    {
     "name": "stdout",
     "output_type": "stream",
     "text": [
      "None\n"
     ]
    }
   ],
   "source": [
    "# for testing UBX is wired in\n",
    "import machine\n",
    "uartUBX = machine.UART(1, baudrate=9600, rx=16, tx=17)\n",
    "print(uartUBX.read())"
   ]
  },
  {
   "cell_type": "code",
   "execution_count": 4,
   "metadata": {},
   "outputs": [
    {
     "name": "stdout",
     "output_type": "stream",
     "text": [
      "b'$GNRMC,,V,,,,,,,,,,N*4D\\r\\n'\n",
      "b'$GNVTG,,,,,,,,,N*2E\\r\\n'\n",
      "b'$GNGGA,,,,,,0,00,99.99,,,,,,*56\\r\\n'\n",
      "b'$GNGSA,A,1,,,,,,,,,,,,,99.99,99.99,99.99*2E\\r\\n'\n",
      "b'$GNGSA,A,1,,,,,,,,,,,,,99.99,99.99,99.99*2E\\r\\n'\n",
      "b'$GPGSV,1,1,00*79\\r\\n'\n",
      "b'$GLGSV,1,1,00*65\\r\\n'\n",
      "b'$GNGLL,,,,,,V,N*7A\\r\\n'\n",
      "b'$GNZDA,,,,,00,00*56\\r\\n'\n",
      "b'$GNRMC,,V,,,,,,,,,,N*4D\\r\\n'\n",
      "b'$GNVTG,,,,,,,,,N*2E\\r\\n'\n",
      "b'$GNGGA,,,,,,0,00,99.99,,,,,,*56\\r\\n'\n",
      "b'$GNGSA,A,1,,,,,,,,,,,,,99.99,99.99,99.99*,1,,,,,,,,,,,,,99.99,99.99,99.99*2E\\r\\n'\n",
      "b'$GPGSV,1,1,00*79\\r\\n'\n",
      "b'$GLGSV,1,1,00*65\\r\\n'\n",
      "b'$GNGLL,,,,,,V,N*7A\\r\\n'\n",
      "b'$GNZDA,,,,,00,00*56\\r\\n'\n"
     ]
    }
   ],
   "source": [
    "for l in uartUBX:\n",
    "    print(l)"
   ]
  },
  {
   "cell_type": "code",
   "execution_count": null,
   "metadata": {},
   "outputs": [],
   "source": [
    "%sendtofile main.py\n",
    "\n",
    "import time, machine, urandom\n",
    "\n",
    "# delay long enough to interrupt if we need to, \n",
    "# before the uart or wlan bricks it for debugging\n",
    "pled = machine.Pin(2, machine.Pin.OUT)\n",
    "for i in range(11):\n",
    "    pled.value(i%2)\n",
    "    time.sleep_ms(500)  \n",
    "\n",
    "from ubxminimal import uartUBX, initUBX\n",
    "initUBX()\n",
    "\n",
    "for i in range(11):\n",
    "    pled.value(i%2)\n",
    "    time.sleep_ms(200)\n",
    "\n",
    "deviceletter = open(\"deviceletter.txt\", \"r\").read()\n",
    "port = {\"A\":9020, \"B\":9021, \"C\":9022}[deviceletter]\n",
    "udpaddr = (\"192.168.43.1\", port)  # ip default for android\n",
    "\n",
    "from UDPblackviewphone import connectBlackview, connectS5\n",
    "if deviceletter == 'C':\n",
    "    connectS5(pled)\n",
    "else:\n",
    "    connectBlackview(pled)\n",
    "\n",
    "for i in range(11):\n",
    "    pled.value(i%2)\n",
    "    time.sleep_ms(100)\n",
    "\n",
    "\n",
    "import socket\n",
    "s = socket.socket(socket.AF_INET, socket.SOCK_DGRAM)\n",
    "s.settimeout(0.005)\n",
    "    \n",
    "ubxbuffer = bytearray(1000)\n",
    "\n",
    "# main loop\n",
    "PCudpaddr = None\n",
    "reccount = 0\n",
    "while True:\n",
    "    n = uartUBX.readinto(ubxbuffer)\n",
    "    if n is not None:\n",
    "        try:\n",
    "            s.sendto(mubxbuffer[:n+2], udpaddr)\n",
    "            if PCudpaddr is not None:\n",
    "                s.sendto(mubxbuffer[:n+2], PCudpaddr)\n",
    "        except OSError as e:\n",
    "            print(\"dwrite\", e)\n",
    "        #print(x[:5])\n",
    "        pled.value(1-pled.value())\n",
    "    else:\n",
    "        try:\n",
    "            mess, PCudpaddr = s.recvfrom(50)\n",
    "            print(mess, PCudpaddr)\n",
    "        except OSError as e:\n",
    "            pass # timeout\n",
    "\n"
   ]
  }
 ],
 "metadata": {
  "kernelspec": {
   "display_name": "MicroPython - USB",
   "language": "micropython",
   "name": "micropython"
  },
  "language_info": {
   "codemirror_mode": "python",
   "file_extension": ".py",
   "mimetype": "text/python",
   "name": "micropython"
  }
 },
 "nbformat": 4,
 "nbformat_minor": 2
}
